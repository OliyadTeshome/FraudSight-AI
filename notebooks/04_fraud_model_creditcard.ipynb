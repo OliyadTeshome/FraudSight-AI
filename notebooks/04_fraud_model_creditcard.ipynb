{
  "cells": [
    {
      "cell_type": "markdown",
      "metadata": {
        "id": "0y6oCEjSCCB4"
      },
      "source": [
        "# Model Building & Training for Fraud Detection"
      ]
    },
    {
      "cell_type": "code",
      "execution_count": 1,
      "metadata": {
        "id": "QwCuqkK8AEhf"
      },
      "outputs": [],
      "source": [
        "# Imports\n",
        "import pandas as pd\n",
        "import numpy as np\n",
        "import joblib\n",
        "\n",
        "from sklearn.model_selection import train_test_split\n",
        "from sklearn.linear_model import LogisticRegression\n",
        "from sklearn.ensemble import RandomForestClassifier\n",
        "from sklearn.metrics import (\n",
        "    classification_report,\n",
        "    confusion_matrix,\n",
        "    roc_auc_score,\n",
        "    average_precision_score,\n",
        "    f1_score\n",
        ")"
      ]
    },
    {
      "cell_type": "markdown",
      "metadata": {
        "id": "TTN6Vv6-COvs"
      },
      "source": [
        "## 1. Load Processed Data"
      ]
    },
    {
      "cell_type": "code",
      "execution_count": 2,
      "metadata": {
        "colab": {
          "base_uri": "https://localhost:8080/"
        },
        "id": "vvh_506IA11X",
        "outputId": "404c0f0b-0c2a-4175-ad5a-6f2619c80654"
      },
      "outputs": [
        {
          "name": "stdout",
          "output_type": "stream",
          "text": [
            "Train shape: (398040, 30), Test shape: (85443, 30)\n"
          ]
        }
      ],
      "source": [
        "train = pd.read_csv(\"../data/processed/creditcard_train_ready.csv\")\n",
        "test = pd.read_csv(\"../data/processed/creditcard_test_ready.csv\")\n",
        "\n",
        "\n",
        "# Separate X and y\n",
        "X_train = train.iloc[:, :-1]\n",
        "y_train = train.iloc[:, -1]\n",
        "\n",
        "X_test = test.iloc[:, :-1]\n",
        "y_test = test.iloc[:, -1]\n",
        "\n",
        "print(f\"Train shape: {X_train.shape}, Test shape: {X_test.shape}\")"
      ]
    },
    {
      "cell_type": "markdown",
      "metadata": {
        "id": "egRTSq3oCZOC"
      },
      "source": [
        "## 2. Define Models"
      ]
    },
    {
      "cell_type": "code",
      "execution_count": 3,
      "metadata": {
        "id": "j7ptTkf6BMtb"
      },
      "outputs": [],
      "source": [
        "# Logistic Regression\n",
        "lr = LogisticRegression(max_iter=1000, random_state=42)\n",
        "\n",
        "# Random Forest\n",
        "rf = RandomForestClassifier(n_estimators=100, random_state=42)"
      ]
    },
    {
      "cell_type": "markdown",
      "metadata": {
        "id": "fWZqRRoHCftQ"
      },
      "source": [
        "## 3. Train Models"
      ]
    },
    {
      "cell_type": "code",
      "execution_count": null,
      "metadata": {
        "colab": {
          "base_uri": "https://localhost:8080/",
          "height": 132
        },
        "id": "XF33sE07Cdh-",
        "outputId": "5ea768fc-eea6-4dc5-fcb6-80392a2ad8d8"
      },
      "outputs": [
        {
          "name": "stdout",
          "output_type": "stream",
          "text": [
            "\n",
            "🔹 Training Logistic Regression...\n",
            "🔹 Training Random Forest...\n"
          ]
        }
      ],
      "source": [
        "print(\"\\n🔹 Training Logistic Regression...\")\n",
        "lr.fit(X_train, y_train)\n",
        "\n",
        "print(\"🔹 Training Random Forest...\")\n",
        "rf.fit(X_train, y_train)"
      ]
    },
    {
      "cell_type": "markdown",
      "metadata": {
        "id": "IYtWqZ8bCr16"
      },
      "source": [
        "## 4. Evaluate Models"
      ]
    },
    {
      "cell_type": "code",
      "execution_count": null,
      "metadata": {
        "colab": {
          "base_uri": "https://localhost:8080/"
        },
        "id": "JQY8TqPuCibf",
        "outputId": "82ebe9bc-d371-4ad6-c7e2-cc362f574595"
      },
      "outputs": [
        {
          "name": "stdout",
          "output_type": "stream",
          "text": [
            "\n",
            "✅ Logistic Regression Results\n",
            "Confusion Matrix:\n",
            "[[83410  1885]\n",
            " [   18   130]]\n",
            "\n",
            "Classification Report:\n",
            "              precision    recall  f1-score   support\n",
            "\n",
            "           0       1.00      0.98      0.99     85295\n",
            "           1       0.06      0.88      0.12       148\n",
            "\n",
            "    accuracy                           0.98     85443\n",
            "   macro avg       0.53      0.93      0.55     85443\n",
            "weighted avg       1.00      0.98      0.99     85443\n",
            "\n",
            "ROC AUC: 0.967180437369194\n",
            "AUC-PR: 0.7062135707831341\n",
            "F1 Score: 0.12020342117429496\n",
            "\n",
            "✅ Random Forest Results\n",
            "Confusion Matrix:\n",
            "[[85281    14]\n",
            " [   32   116]]\n",
            "\n",
            "Classification Report:\n",
            "              precision    recall  f1-score   support\n",
            "\n",
            "           0       1.00      1.00      1.00     85295\n",
            "           1       0.89      0.78      0.83       148\n",
            "\n",
            "    accuracy                           1.00     85443\n",
            "   macro avg       0.95      0.89      0.92     85443\n",
            "weighted avg       1.00      1.00      1.00     85443\n",
            "\n",
            "ROC AUC: 0.9689994027088815\n",
            "AUC-PR: 0.8281333489231498\n",
            "F1 Score: 0.8345323741007195\n"
          ]
        }
      ],
      "source": [
        "# Logistic Regression Predictions\n",
        "y_pred_lr = lr.predict(X_test)\n",
        "y_prob_lr = lr.predict_proba(X_test)[:, 1]\n",
        "\n",
        "print(\"\\n✅ Logistic Regression Results\")\n",
        "print(\"Confusion Matrix:\")\n",
        "print(confusion_matrix(y_test, y_pred_lr))\n",
        "print(\"\\nClassification Report:\")\n",
        "print(classification_report(y_test, y_pred_lr))\n",
        "print(\"ROC AUC:\", roc_auc_score(y_test, y_prob_lr))\n",
        "print(\"AUC-PR:\", average_precision_score(y_test, y_prob_lr))\n",
        "print(\"F1 Score:\", f1_score(y_test, y_pred_lr))\n",
        "\n",
        "# Random Forest Predictions\n",
        "y_pred_rf = rf.predict(X_test)\n",
        "y_prob_rf = rf.predict_proba(X_test)[:, 1]\n",
        "\n",
        "print(\"\\n✅ Random Forest Results\")\n",
        "print(\"Confusion Matrix:\")\n",
        "print(confusion_matrix(y_test, y_pred_rf))\n",
        "print(\"\\nClassification Report:\")\n",
        "print(classification_report(y_test, y_pred_rf))\n",
        "print(\"ROC AUC:\", roc_auc_score(y_test, y_prob_rf))\n",
        "print(\"AUC-PR:\", average_precision_score(y_test, y_prob_rf))\n",
        "print(\"F1 Score:\", f1_score(y_test, y_pred_rf))"
      ]
    },
    {
      "cell_type": "markdown",
      "metadata": {
        "id": "UHgUBQA4DJz2"
      },
      "source": [
        "## 5. Save Best Model"
      ]
    },
    {
      "cell_type": "code",
      "execution_count": null,
      "metadata": {
        "colab": {
          "base_uri": "https://localhost:8080/"
        },
        "id": "2g_cz6iJC66a",
        "outputId": "fb7db704-5e51-40a7-c20f-46cbbd108c92"
      },
      "outputs": [
        {
          "name": "stdout",
          "output_type": "stream",
          "text": [
            "✅ Random Forest model saved\n"
          ]
        }
      ],
      "source": [
        "joblib.dump(rf, \",,/data/models/random_forest_model.pkl\")\n",
        "print(\"✅ Random Forest model saved\")"
      ]
    }
  ],
  "metadata": {
    "colab": {
      "provenance": []
    },
    "kernelspec": {
      "display_name": ".venv",
      "language": "python",
      "name": "python3"
    },
    "language_info": {
      "codemirror_mode": {
        "name": "ipython",
        "version": 3
      },
      "file_extension": ".py",
      "mimetype": "text/x-python",
      "name": "python",
      "nbconvert_exporter": "python",
      "pygments_lexer": "ipython3",
      "version": "3.13.5"
    }
  },
  "nbformat": 4,
  "nbformat_minor": 0
}
